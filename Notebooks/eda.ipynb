{
 "cells": [
  {
   "cell_type": "code",
   "execution_count": 77,
   "metadata": {},
   "outputs": [],
   "source": [
    "# System Library\n",
    "import os\n",
    "\n",
    "# Data Wrangling Libraries\n",
    "import pandas as pd\n",
    "import numpy as np\n",
    "import json\n",
    "import textwrap\n",
    "from termcolor import colored\n",
    "\n",
    "# Machine Learning Libraries\n",
    "import torch \n",
    "from torch.utils.data import Dataset, DataLoader\n",
    "import pytorch_lightning as pl\n",
    "from pytorch_lightning.callbacks import ModelCheckpoint\n",
    "from pytorch_lightning.loggers import TensorBoardLogger\n",
    "from sklearn.model_selection import train_test_split\n",
    "from transformers import AdamW, T5ForConditionalGeneration, T5TokenizerFast as T5Tokenizer\n",
    "from tqdm.auto import tqdm\n",
    "\n",
    "\n",
    "# Graph Plotting Libraries\n",
    "import matplotlib.pyplot as plt\n",
    "import seaborn as sns\n",
    "from pylab import rcParams\n",
    "from matplotlib import rc\n",
    "\n",
    "%matplotlib inline\n",
    "%config InlineBackend.figure_format='retina'\n",
    "sns.set(style='whitegrid', palette='muted', font_scale=1.2)\n",
    "rcParams['figure.figsize']=16,10\n"
   ]
  },
  {
   "cell_type": "code",
   "execution_count": 78,
   "metadata": {},
   "outputs": [
    {
     "data": {
      "text/html": [
       "<div>\n",
       "<style scoped>\n",
       "    .dataframe tbody tr th:only-of-type {\n",
       "        vertical-align: middle;\n",
       "    }\n",
       "\n",
       "    .dataframe tbody tr th {\n",
       "        vertical-align: top;\n",
       "    }\n",
       "\n",
       "    .dataframe thead th {\n",
       "        text-align: right;\n",
       "    }\n",
       "</style>\n",
       "<table border=\"1\" class=\"dataframe\">\n",
       "  <thead>\n",
       "    <tr style=\"text-align: right;\">\n",
       "      <th></th>\n",
       "      <th>category</th>\n",
       "      <th>filename</th>\n",
       "      <th>title</th>\n",
       "      <th>content</th>\n",
       "    </tr>\n",
       "  </thead>\n",
       "  <tbody>\n",
       "    <tr>\n",
       "      <th>0</th>\n",
       "      <td>business</td>\n",
       "      <td>001.txt</td>\n",
       "      <td>Ad sales boost Time Warner profit</td>\n",
       "      <td>Quarterly profits at US media giant TimeWarne...</td>\n",
       "    </tr>\n",
       "    <tr>\n",
       "      <th>1</th>\n",
       "      <td>business</td>\n",
       "      <td>002.txt</td>\n",
       "      <td>Dollar gains on Greenspan speech</td>\n",
       "      <td>The dollar has hit its highest level against ...</td>\n",
       "    </tr>\n",
       "    <tr>\n",
       "      <th>2</th>\n",
       "      <td>business</td>\n",
       "      <td>003.txt</td>\n",
       "      <td>Yukos unit buyer faces loan claim</td>\n",
       "      <td>The owners of embattled Russian oil giant Yuk...</td>\n",
       "    </tr>\n",
       "    <tr>\n",
       "      <th>3</th>\n",
       "      <td>business</td>\n",
       "      <td>004.txt</td>\n",
       "      <td>High fuel prices hit BA's profits</td>\n",
       "      <td>British Airways has blamed high fuel prices f...</td>\n",
       "    </tr>\n",
       "    <tr>\n",
       "      <th>4</th>\n",
       "      <td>business</td>\n",
       "      <td>005.txt</td>\n",
       "      <td>Pernod takeover talk lifts Domecq</td>\n",
       "      <td>Shares in UK drinks and food firm Allied Dome...</td>\n",
       "    </tr>\n",
       "    <tr>\n",
       "      <th>...</th>\n",
       "      <td>...</td>\n",
       "      <td>...</td>\n",
       "      <td>...</td>\n",
       "      <td>...</td>\n",
       "    </tr>\n",
       "    <tr>\n",
       "      <th>2220</th>\n",
       "      <td>tech</td>\n",
       "      <td>397.txt</td>\n",
       "      <td>BT program to beat dialler scams</td>\n",
       "      <td>BT is introducing two initiatives to help bea...</td>\n",
       "    </tr>\n",
       "    <tr>\n",
       "      <th>2221</th>\n",
       "      <td>tech</td>\n",
       "      <td>398.txt</td>\n",
       "      <td>Spam e-mails tempt net shoppers</td>\n",
       "      <td>Computer users across the world continue to i...</td>\n",
       "    </tr>\n",
       "    <tr>\n",
       "      <th>2222</th>\n",
       "      <td>tech</td>\n",
       "      <td>399.txt</td>\n",
       "      <td>Be careful how you code</td>\n",
       "      <td>A new European directive could put software w...</td>\n",
       "    </tr>\n",
       "    <tr>\n",
       "      <th>2223</th>\n",
       "      <td>tech</td>\n",
       "      <td>400.txt</td>\n",
       "      <td>US cyber security chief resigns</td>\n",
       "      <td>The man making sure US computer networks are ...</td>\n",
       "    </tr>\n",
       "    <tr>\n",
       "      <th>2224</th>\n",
       "      <td>tech</td>\n",
       "      <td>401.txt</td>\n",
       "      <td>Losing yourself in online gaming</td>\n",
       "      <td>Online role playing games are time-consuming,...</td>\n",
       "    </tr>\n",
       "  </tbody>\n",
       "</table>\n",
       "<p>2225 rows × 4 columns</p>\n",
       "</div>"
      ],
      "text/plain": [
       "      category filename                              title  \\\n",
       "0     business  001.txt  Ad sales boost Time Warner profit   \n",
       "1     business  002.txt   Dollar gains on Greenspan speech   \n",
       "2     business  003.txt  Yukos unit buyer faces loan claim   \n",
       "3     business  004.txt  High fuel prices hit BA's profits   \n",
       "4     business  005.txt  Pernod takeover talk lifts Domecq   \n",
       "...        ...      ...                                ...   \n",
       "2220      tech  397.txt   BT program to beat dialler scams   \n",
       "2221      tech  398.txt    Spam e-mails tempt net shoppers   \n",
       "2222      tech  399.txt            Be careful how you code   \n",
       "2223      tech  400.txt    US cyber security chief resigns   \n",
       "2224      tech  401.txt   Losing yourself in online gaming   \n",
       "\n",
       "                                                content  \n",
       "0      Quarterly profits at US media giant TimeWarne...  \n",
       "1      The dollar has hit its highest level against ...  \n",
       "2      The owners of embattled Russian oil giant Yuk...  \n",
       "3      British Airways has blamed high fuel prices f...  \n",
       "4      Shares in UK drinks and food firm Allied Dome...  \n",
       "...                                                 ...  \n",
       "2220   BT is introducing two initiatives to help bea...  \n",
       "2221   Computer users across the world continue to i...  \n",
       "2222   A new European directive could put software w...  \n",
       "2223   The man making sure US computer networks are ...  \n",
       "2224   Online role playing games are time-consuming,...  \n",
       "\n",
       "[2225 rows x 4 columns]"
      ]
     },
     "execution_count": 78,
     "metadata": {},
     "output_type": "execute_result"
    }
   ],
   "source": [
    "with open('../Dataset/bbc-news-data.csv', 'r') as f:\n",
    "    df_header = f.readline().split()\n",
    "df = pd.read_csv('../Dataset/bbc-news-data.csv', names=df_header, sep='\\t', skiprows=1)\n",
    "df"
   ]
  },
  {
   "cell_type": "code",
   "execution_count": 79,
   "metadata": {},
   "outputs": [
    {
     "name": "stdout",
     "output_type": "stream",
     "text": [
      "sport            511\n",
      "business         510\n",
      "politics         417\n",
      "tech             401\n",
      "entertainment    386\n",
      "Name: category, dtype: int64\n"
     ]
    }
   ],
   "source": [
    "print(df.category.value_counts())\n",
    "category_spread = (df.category.value_counts() / df.shape[0]) * 100"
   ]
  },
  {
   "cell_type": "code",
   "execution_count": 80,
   "metadata": {},
   "outputs": [
    {
     "data": {
      "text/plain": [
       "array([22.96629213, 22.92134831, 18.74157303, 18.02247191, 17.34831461])"
      ]
     },
     "execution_count": 80,
     "metadata": {},
     "output_type": "execute_result"
    }
   ],
   "source": [
    "category_spread.values"
   ]
  },
  {
   "cell_type": "code",
   "execution_count": 81,
   "metadata": {},
   "outputs": [
    {
     "data": {
      "image/png": "[encoded data removed]",
      "text/plain": [
       "<Figure size 432x432 with 1 Axes>"
      ]
     },
     "metadata": {
      "image/png": {
       "height": 320,
       "width": 432
      }
     },
     "output_type": "display_data"
    }
   ],
   "source": [
    "fig, ax = plt.subplots(figsize=(6, 6))\n",
    "cmap = plt.get_cmap('Greys')\n",
    "colors = ['dodgerblue','#1F456E', '#1F456E', '#1F456E', '#1F456E']\n",
    "\n",
    "\n",
    "\n",
    "patches, texts, pcts = ax.pie(category_spread.values, \n",
    "                                labels=category_spread.index, \n",
    "                                autopct='%.1f%%', \n",
    "                                colors=colors,\n",
    "                                wedgeprops={'linewidth': 1.0, 'edgecolor': 'black'},\n",
    "                                textprops={'size': 'x-large', 'color':  'white', 'variant': 'small-caps'})\n",
    "ax.set_title('News Article Category', fontsize=18, color='white')\n",
    "plt.setp(pcts, color='white', fontweight='bold')\n",
    "plt.tight_layout()"
   ]
  },
  {
   "cell_type": "code",
   "execution_count": 82,
   "metadata": {},
   "outputs": [
    {
     "name": "stdout",
     "output_type": "stream",
     "text": [
      "category  filename  title  content\n",
      "False     False     False  False      2225\n",
      "dtype: int64\n",
      "(2225, 4)\n"
     ]
    }
   ],
   "source": [
    "print(df.isnull().value_counts())\n",
    "print(df.shape)"
   ]
  },
  {
   "cell_type": "code",
   "execution_count": 89,
   "metadata": {},
   "outputs": [],
   "source": [
    "df['title_length'] = df['title'].apply(lambda x: len(x.split()))\n",
    "df['content_length'] = df['content'].apply(lambda x: len(x.split()))\n",
    "df['title'] = df['title'].str.encode('ascii', 'ignore').str.decode('ascii')\n",
    "df['content'] = df['content'].str.encode('ascii', 'ignore').str.decode('ascii')"
   ]
  },
  {
   "cell_type": "code",
   "execution_count": 90,
   "metadata": {},
   "outputs": [
    {
     "name": "stdout",
     "output_type": "stream",
     "text": [
      "               title_length  content_length\n",
      "category                                   \n",
      "business           5.396078      323.484314\n",
      "entertainment      5.424870      325.196891\n",
      "politics           5.088729      448.884892\n",
      "sport              4.892368      324.369863\n",
      "tech               5.266833      497.428928\n"
     ]
    }
   ],
   "source": [
    "category_length = df.groupby('category', 0).agg({'title_length': 'mean', 'content_length': 'mean'})\n",
    "print(category_length)"
   ]
  },
  {
   "cell_type": "code",
   "execution_count": 62,
   "metadata": {},
   "outputs": [
    {
     "data": {
      "image/png": "[encoded data removed]",
      "text/plain": [
       "<Figure size 576x432 with 1 Axes>"
      ]
     },
     "metadata": {
      "needs_background": "light"
     },
     "output_type": "display_data"
    }
   ],
   "source": [
    "df_m = pd.melt(category_length, ignore_index=False)\n",
    "plt.figure(figsize=(8,6))\n",
    "sns.barplot(x=df_m.index, y=\"value\", hue='variable', data=df_m)\n",
    "plt.show()"
   ]
  },
  {
   "cell_type": "code",
   "execution_count": 92,
   "metadata": {},
   "outputs": [],
   "source": [
    "X = df['title']\n",
    "y = df['content']"
   ]
  },
  {
   "cell_type": "code",
   "execution_count": 127,
   "metadata": {},
   "outputs": [],
   "source": [
    "X_train, X_test, y_train, y_test = train_test_split(X, y, test_size=0.2)\n",
    "train_df = pd.DataFrame({X_train.name: X_train, y_train.name: y_train})\n",
    "test_df = pd.DataFrame({X_test.name: X_test, y_test.name: y_test})"
   ]
  },
  {
   "cell_type": "code",
   "execution_count": 98,
   "metadata": {},
   "outputs": [
    {
     "name": "stdout",
     "output_type": "stream",
     "text": [
      "\n",
      "XTrain Size: 1780\n",
      "yTrain Size: 1780\n",
      "XTest Size: 445\n",
      "yTest Size: 445\n"
     ]
    }
   ],
   "source": [
    "print(f\"\\nXTrain Size: {len(X_train)}\\nyTrain Size: {len(y_train)}\\nXTest Size: {len(X_test)}\\nyTest Size: {len(y_test)}\")"
   ]
  },
  {
   "cell_type": "code",
   "execution_count": 99,
   "metadata": {},
   "outputs": [],
   "source": [
    "class SummaryDataset(Dataset):\n",
    "    def __init__(\n",
    "        self,\n",
    "        data: pd.DataFrame,\n",
    "        tokenizer: T5Tokenizer,\n",
    "        title_max_token_len: int = 512,\n",
    "        content_max_token_len: int = 128\n",
    "    ):\n",
    "        self.tokenizer = tokenizer\n",
    "        self.data = data\n",
    "        self.title_max_token_len = title_max_token_len\n",
    "        self.content_max_token_len = content_max_token_len\n",
    "\n",
    "    def __len__(self):\n",
    "        return len(self.data)\n",
    "    \n",
    "    def __getitem__(self, index: int):\n",
    "        data_row = self.data.iloc[index]\n",
    "\n",
    "        title = data_row['title']\n",
    "\n",
    "        title_encoding = tokenizer(\n",
    "            title,\n",
    "            max_length = self.title_max_token_len,\n",
    "            padding = 'max_length',\n",
    "            truncation = True,\n",
    "            return_attention_mask = True,\n",
    "            add_special_tokens = True,\n",
    "            return_tensors = 'pt'\n",
    "        )\n",
    "\n",
    "        content = data_row['content']\n",
    "\n",
    "        content_encoding = tokenizer(\n",
    "            content,\n",
    "            max_length = self.content_max_token_len,\n",
    "            padding = 'max_length',\n",
    "            truncation = True,\n",
    "            return_attention_mask = True,\n",
    "            add_special_tokens = True,\n",
    "            return_tensors = 'pt'\n",
    "        )\n",
    "\n",
    "        labels = content_encoding['input_ids']\n",
    "        labels[labels == 0] = -100\n",
    "\n",
    "        return dict(\n",
    "            title = title,\n",
    "            content = content,\n",
    "            title_input_ids = title_encoding['input_ids'].flatten(),\n",
    "            text_attention_mask = title_encoding['attention_mask'].flatten(),\n",
    "            labels = labels.flatten(),\n",
    "            labels_attention_mask = content_encoding['attention_mask'].flatten()\n",
    "        )\n",
    "\n"
   ]
  },
  {
   "cell_type": "code",
   "execution_count": 125,
   "metadata": {},
   "outputs": [],
   "source": [
    "class SummaryDataModule(pl.LightningDataModule):\n",
    "    def __init__(\n",
    "        self,\n",
    "        X_train: pd.DataFrame,\n",
    "        y_train: pd.DataFrame,\n",
    "        X_test: pd.DataFrame,\n",
    "        y_test: pd.DataFrame,\n",
    "        tokenizer: T5Tokenizer,\n",
    "        batch_size: int = 8,\n",
    "        title_max_token_len: int = 512,\n",
    "        content_max_token_len: int = 128\n",
    "    ):\n",
    "        super().__init__()\n",
    "        self.X_train = X_train\n",
    "        self.y_train = y_train\n",
    "        self.X_test = X_test\n",
    "        self.y_test = y_test\n",
    "        self.tokenizer = tokenizer\n",
    "        self.batch_size = batch_size\n",
    "        self.title_max_token_len = title_max_token_len\n",
    "        self.content_max_token_len = content_max_token_len\n",
    "        self.train_df = pd.DataFrame({self.X_train.name: self.X_train, self.y_train.name: self.y_train})\n",
    "        self.test_df = pd.DataFrame({self.X_test.name: self.X_test, self.y_test.name: self.y_test})\n",
    "\n",
    "    def setup(self, stage=None):\n",
    "\n",
    "        self.train_dataset = SummaryDataset(\n",
    "            self.train_df,\n",
    "            self.tokenizer,\n",
    "            self.title_max_token_len,\n",
    "            self.content_max_token_len\n",
    "        )\n",
    "\n",
    "        self.test_dataset = SummaryDataset(\n",
    "            self.test_df,\n",
    "            self.tokenizer,\n",
    "            self.title_max_token_len,\n",
    "            self.content_max_token_len\n",
    "        )\n",
    "\n",
    "        def train_dataloader(self):\n",
    "            return DataLoader(\n",
    "                self.train_dataset,\n",
    "                batch_size=self.batch_size,\n",
    "                shuffle=True,\n",
    "                num_workers=2\n",
    "            )\n",
    "\n",
    "        def test_dataloader(self):\n",
    "            return DataLoader(\n",
    "                self.test_dataset,\n",
    "                batch_size=self.batch_size,\n",
    "                shuffle=True,\n",
    "                num_workers=2\n",
    "            )\n",
    "\n",
    "        def validation_dataloader(self):\n",
    "            return DataLoader(\n",
    "                self.test_dataset,\n",
    "                batch_size=self.batch_size,\n",
    "                shuffle=True,\n",
    "                num_workers=2\n",
    "            )\n"
   ]
  },
  {
   "cell_type": "code",
   "execution_count": 122,
   "metadata": {},
   "outputs": [
    {
     "data": {
      "application/vnd.jupyter.widget-view+json": {
       "model_id": "0b9493b32f6245da90dcf8c832f1c325",
       "version_major": 2,
       "version_minor": 0
      },
      "text/plain": [
       "Downloading:   0%|          | 0.00/792k [00:00<?, ?B/s]"
      ]
     },
     "metadata": {},
     "output_type": "display_data"
    },
    {
     "data": {
      "application/vnd.jupyter.widget-view+json": {
       "model_id": "763c41cc6fad44299bf13ee539c612fa",
       "version_major": 2,
       "version_minor": 0
      },
      "text/plain": [
       "Downloading:   0%|          | 0.00/1.39M [00:00<?, ?B/s]"
      ]
     },
     "metadata": {},
     "output_type": "display_data"
    },
    {
     "name": "stderr",
     "output_type": "stream",
     "text": [
      "/Users/nidarsh/opt/anaconda3/lib/python3.9/site-packages/transformers/models/t5/tokenization_t5_fast.py:156: FutureWarning: This tokenizer was incorrectly instantiated with a model max length of 512 which will be corrected in Transformers v5.\n",
      "For now, this behavior is kept to avoid breaking backwards compatibility when padding/encoding with `truncation is True`.\n",
      "- Be aware that you SHOULD NOT rely on t5-base automatically truncating your input to 512 when padding/encoding.\n",
      "- If you want to encode/pad to sequences longer than 512 you can either instantiate this tokenizer with `model_max_length` or pass `max_length` when encoding/padding.\n",
      "- To avoid this warning, please instantiate this tokenizer with `model_max_length` set to your preferred value.\n",
      "  warnings.warn(\n"
     ]
    }
   ],
   "source": [
    "MODEL_NAME = 't5-base'\n",
    "tokenizer = T5Tokenizer.from_pretrained(MODEL_NAME)"
   ]
  },
  {
   "cell_type": "code",
   "execution_count": 128,
   "metadata": {},
   "outputs": [
    {
     "name": "stderr",
     "output_type": "stream",
     "text": [
      "Token indices sequence length is longer than the specified maximum sequence length for this model (572 > 512). Running this sequence through the model will result in indexing errors\n"
     ]
    }
   ],
   "source": [
    "title_token_counts, content_token_counts = [], []\n",
    "\n",
    "for _, row in train_df.iterrows():\n",
    "    title_token_count = len(tokenizer.encode(row['title']))\n",
    "    title_token_counts.append(title_token_count)\n",
    "\n",
    "    content_token_count = len(tokenizer.encode(row['content']))\n",
    "    content_token_counts.append(content_token_count)"
   ]
  },
  {
   "cell_type": "code",
   "execution_count": 129,
   "metadata": {},
   "outputs": [],
   "source": [
    "EPOCHS = 3\n",
    "BATCH_SIZE = 8\n",
    "\n",
    "data_module = SummaryDataModule(X_train=X_train, y_train=y_train, X_test=X_test, \n",
    "                        y_test=y_test, tokenizer=tokenizer)"
   ]
  },
  {
   "cell_type": "code",
   "execution_count": null,
   "metadata": {},
   "outputs": [],
   "source": []
  },
  {
   "cell_type": "code",
   "execution_count": null,
   "metadata": {},
   "outputs": [],
   "source": []
  }
 ],
 "metadata": {
  "kernelspec": {
   "display_name": "Python 3.9.12 ('base')",
   "language": "python",
   "name": "python3"
  },
  "language_info": {
   "codemirror_mode": {
    "name": "ipython",
    "version": 3
   },
   "file_extension": ".py",
   "mimetype": "text/x-python",
   "name": "python",
   "nbconvert_exporter": "python",
   "pygments_lexer": "ipython3",
   "version": "3.9.12"
  },
  "orig_nbformat": 4,
  "vscode": {
   "interpreter": {
    "hash": "ea195e53f2ba984fe8d7c4b3c3a4b8462161715ad1ec800885ad4718db60b3a0"
   }
  }
 },
 "nbformat": 4,
 "nbformat_minor": 2
}
